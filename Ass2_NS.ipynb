{
 "cells": [
  {
   "cell_type": "markdown",
   "id": "18ddf664",
   "metadata": {},
   "source": [
    "## Code : 9OrR52ctJ"
   ]
  },
  {
   "cell_type": "code",
   "execution_count": 2,
   "id": "d7afbcbc",
   "metadata": {},
   "outputs": [],
   "source": [
    "import networkx as nx\n",
    "import matplotlib.pyplot as plt\n",
    "import os\n",
    "import scipy as sp\n",
    "import numpy as np"
   ]
  },
  {
   "cell_type": "markdown",
   "id": "b6d8560f",
   "metadata": {},
   "source": [
    "## QUESTION 1"
   ]
  },
  {
   "cell_type": "markdown",
   "id": "6f749052",
   "metadata": {},
   "source": [
    "### a) Local Clustering Coefficient"
   ]
  },
  {
   "cell_type": "raw",
   "id": "0d87222a",
   "metadata": {},
   "source": [
    "Let us create a graph with 6 nodes and compute by hand the clustering coefficient (Cc) of each node"
   ]
  },
  {
   "cell_type": "code",
   "execution_count": 3,
   "id": "ffaeff14",
   "metadata": {
    "scrolled": true
   },
   "outputs": [
    {
     "data": {
      "image/png": "[encoded data removed]",
      "text/plain": [
       "<Figure size 432x288 with 1 Axes>"
      ]
     },
     "metadata": {},
     "output_type": "display_data"
    }
   ],
   "source": [
    "G = nx.Graph()\n",
    "G.add_edges_from([(1,2),(1,3),(1,5),(2,3),(2,4),(3,6)])\n",
    "nx.draw(G, with_labels = True, node_color = 'b', node_size = 1000)"
   ]
  },
  {
   "cell_type": "markdown",
   "id": "318c4cb9",
   "metadata": {},
   "source": [
    "The Local Clustering Coefficient is given by : $Cc(i) = \\dfrac{e_{i}}{\\dfrac{k_{i}(k_{i} - 1)} {2}}$\n",
    "$ Cc(1) = \\dfrac{1}{3(3-1) / 2} = \\dfrac{1}{3} = 0.33.. \\\\\n",
    "Cc(2) = \\dfrac{1}{3(3-1) / 2} = \\dfrac{1}{3} = 0.33.. \\\\\n",
    "Cc(3) = \\dfrac{1}{3(3-1) / 2} = \\dfrac{1}{3} = 0.33.. \\\\\n",
    "Cc(4) = \\dfrac{0}{1(1-1) / 2} = 0 \\\\\n",
    "Cc(5) = \\dfrac{0}{1(1-1) / 2} = 0 \\\\ \n",
    "Cc(6) = \\dfrac{0}{1(1-1) / 2} = 0 $"
   ]
  },
  {
   "cell_type": "raw",
   "id": "c4bedcaf",
   "metadata": {},
   "source": [
    "Let us now use the built-in function 'clustering' of the library Networkx to compute the Cc"
   ]
  },
  {
   "cell_type": "code",
   "execution_count": 4,
   "id": "65e5c9bb",
   "metadata": {},
   "outputs": [
    {
     "name": "stdout",
     "output_type": "stream",
     "text": [
      "The nodes are : [1, 2, 3, 5, 4, 6]\n",
      "The Cc are [0.3333333333333333, 0.3333333333333333, 0.3333333333333333, 0, 0, 0]\n"
     ]
    }
   ],
   "source": [
    "L = []\n",
    "for i in G.nodes():\n",
    "    d = nx.clustering(G,i)\n",
    "    L.append(d)\n",
    "print ('The nodes are :', G.nodes()) \n",
    "print('The Cc are', L)"
   ]
  },
  {
   "cell_type": "raw",
   "id": "e40d2cc1",
   "metadata": {},
   "source": [
    "Hence, how calculations are good. "
   ]
  },
  {
   "cell_type": "markdown",
   "id": "4b1fec06",
   "metadata": {},
   "source": [
    "### b) Consider an undirected network of size N in which each node has degree k = 1. Which condition does N have to satisfy? What is the degree distribution of this network? How many components does the network have ? "
   ]
  },
  {
   "cell_type": "raw",
   "id": "d3e848b2",
   "metadata": {},
   "source": [
    "Let us fixe the number of nodes N = 6 where each node has degree k = 1\n",
    "and create our graph"
   ]
  },
  {
   "cell_type": "code",
   "execution_count": 5,
   "id": "da0aa69c",
   "metadata": {},
   "outputs": [
    {
     "data": {
      "text/plain": [
       "DegreeView({'Domini': 1, 'Berthine': 1, 'Michael': 1, 'Yollande': 1, 'Edwine': 1, 'Mohamed': 1})"
      ]
     },
     "execution_count": 5,
     "metadata": {},
     "output_type": "execute_result"
    },
    {
     "data": {
      "image/png": "[encoded data removed]",
      "text/plain": [
       "<Figure size 432x288 with 1 Axes>"
      ]
     },
     "metadata": {},
     "output_type": "display_data"
    }
   ],
   "source": [
    "H = nx.Graph()\n",
    "H.add_edges_from([('Domini','Berthine'),('Michael','Yollande'),('Edwine','Mohamed')])\n",
    "nx.draw_circular(H, with_labels=True, node_size=3000, node_color='y') #Draw the graph\n",
    "H.degree() #Print the degree of each node"
   ]
  },
  {
   "cell_type": "markdown",
   "id": "4d5d0bcd",
   "metadata": {},
   "source": [
    "According to the Handshaking lemma which is given by : $\\sum_{i = 1}^{N}ki = 2L$"
   ]
  },
  {
   "cell_type": "raw",
   "id": "c58866a5",
   "metadata": {},
   "source": [
    "N must be an even number and the number of components is N/2. Hence H has 3 components. "
   ]
  },
  {
   "cell_type": "markdown",
   "id": "d7c241f3",
   "metadata": {},
   "source": [
    "#### Degree distribution of H"
   ]
  },
  {
   "cell_type": "code",
   "execution_count": 6,
   "id": "25bb7b40",
   "metadata": {},
   "outputs": [
    {
     "data": {
      "image/png": "[encoded data removed]",
      "text/plain": [
       "<Figure size 432x288 with 1 Axes>"
      ]
     },
     "metadata": {
      "needs_background": "light"
     },
     "output_type": "display_data"
    }
   ],
   "source": [
    "deg_values = list(dict(H.degree()).values())\n",
    "plt.figure(figsize=(6,4))\n",
    "plt.hist(deg_values, label=str)\n",
    "plt.xlabel=('k')\n",
    "plt.ylabel=('pk')\n",
    "plt.show()"
   ]
  },
  {
   "cell_type": "markdown",
   "id": "2361af27",
   "metadata": {},
   "source": [
    "### c) Consider now a network in which each node has degree k = 2 and clustering coeffcient C = 1. How does the network look like? What condition does N satisfy in this case ?"
   ]
  },
  {
   "cell_type": "raw",
   "id": "43ff7e2c",
   "metadata": {},
   "source": [
    "Let us create a graph I in which each node has degree k = 2"
   ]
  },
  {
   "cell_type": "code",
   "execution_count": 9,
   "id": "a7bf730b",
   "metadata": {},
   "outputs": [
    {
     "data": {
      "image/png": "[encoded data removed]",
      "text/plain": [
       "<Figure size 432x288 with 1 Axes>"
      ]
     },
     "metadata": {},
     "output_type": "display_data"
    }
   ],
   "source": [
    "I = nx.Graph()\n",
    "I.add_edges_from([('GLODY', 'MOCTAR'), ('GLODY','EMMA'),('EMMA','MOCTAR')])\n",
    "plt.title('Friendship')\n",
    "nx.draw(I, with_labels=True, node_size = 2000)"
   ]
  },
  {
   "cell_type": "raw",
   "id": "3fadbbf1",
   "metadata": {},
   "source": [
    "The Clustering Coefficient Cc"
   ]
  },
  {
   "cell_type": "code",
   "execution_count": 10,
   "id": "68462920",
   "metadata": {},
   "outputs": [
    {
     "name": "stdout",
     "output_type": "stream",
     "text": [
      "Cc for each node : {'GLODY': 1.0, 'MOCTAR': 1.0, 'EMMA': 1.0}\n"
     ]
    }
   ],
   "source": [
    "print('Cc for each node :', nx.clustering(I))"
   ]
  },
  {
   "cell_type": "raw",
   "id": "7daf67ca",
   "metadata": {},
   "source": [
    "The network is a complete graph with 3 nodes which can represent the transitivity in friendship in the real life. The graph being a triangle, N is therefore equal to L.    "
   ]
  },
  {
   "cell_type": "markdown",
   "id": "06c375b0",
   "metadata": {},
   "source": [
    "## QUESTION 2"
   ]
  },
  {
   "cell_type": "raw",
   "id": "9a2cf664",
   "metadata": {},
   "source": [
    "Let us create a graph called J"
   ]
  },
  {
   "cell_type": "code",
   "execution_count": 11,
   "id": "39268a38",
   "metadata": {},
   "outputs": [
    {
     "data": {
      "image/png": "[encoded data removed]",
      "text/plain": [
       "<Figure size 432x288 with 1 Axes>"
      ]
     },
     "metadata": {},
     "output_type": "display_data"
    }
   ],
   "source": [
    "J = nx.Graph()\n",
    "J.add_nodes_from(['A','B','C','D','E','F','G','H'])\n",
    "J.add_edges_from([('A','B'),('B','E'),('B','G'),('C','A'),('D','A'),('E','F'),('G','H')])\n",
    "nx.draw(J, with_labels=True, node_size=1000, pos=nx.spring_layout(J),node_color='orange')"
   ]
  },
  {
   "cell_type": "raw",
   "id": "85810e6f",
   "metadata": {},
   "source": [
    "The adjacency matrix A of J is given by :"
   ]
  },
  {
   "cell_type": "code",
   "execution_count": 12,
   "id": "7c70dc70",
   "metadata": {},
   "outputs": [
    {
     "name": "stderr",
     "output_type": "stream",
     "text": [
      "<ipython-input-12-393b2c996791>:1: FutureWarning: adjacency_matrix will return a scipy.sparse array instead of a matrix in Networkx 3.0.\n",
      "  A = nx.adjacency_matrix(J).todense()\n"
     ]
    },
    {
     "data": {
      "text/plain": [
       "matrix([[0, 1, 1, 1, 0, 0, 0, 0],\n",
       "        [1, 0, 0, 0, 1, 0, 1, 0],\n",
       "        [1, 0, 0, 0, 0, 0, 0, 0],\n",
       "        [1, 0, 0, 0, 0, 0, 0, 0],\n",
       "        [0, 1, 0, 0, 0, 1, 0, 0],\n",
       "        [0, 0, 0, 0, 1, 0, 0, 0],\n",
       "        [0, 1, 0, 0, 0, 0, 0, 1],\n",
       "        [0, 0, 0, 0, 0, 0, 1, 0]], dtype=int32)"
      ]
     },
     "execution_count": 12,
     "metadata": {},
     "output_type": "execute_result"
    }
   ],
   "source": [
    "A = nx.adjacency_matrix(J).todense()\n",
    "A"
   ]
  },
  {
   "cell_type": "markdown",
   "id": "e4fc43f2",
   "metadata": {},
   "source": [
    "### a) Degree centrality "
   ]
  },
  {
   "cell_type": "raw",
   "id": "cfa44b2e",
   "metadata": {},
   "source": [
    "Note : The degree centrality values are normalized by dividing by the maximum possible degree in a simple graph n-1 where n is the number of nodes in a given graph (Source : Python documentation). "
   ]
  },
  {
   "cell_type": "markdown",
   "id": "61de00b6",
   "metadata": {},
   "source": [
    "#### Personal code"
   ]
  },
  {
   "cell_type": "code",
   "execution_count": 13,
   "id": "e3482635",
   "metadata": {},
   "outputs": [
    {
     "name": "stdout",
     "output_type": "stream",
     "text": [
      "Degree centrality : [[3 3 1 1 2 1 2 1]]\n",
      "Degree centrality normalized : [[0.42857143 0.42857143 0.14285714 0.14285714 0.28571429 0.14285714\n",
      "  0.28571429 0.14285714]]\n"
     ]
    }
   ],
   "source": [
    "import numpy as np\n",
    "t = np.ones(len(A), dtype=int) #Genere a vector of length 8 of int 1\n",
    "print('Degree centrality :', t@A) #Degree centrality of each node\n",
    "print('Degree centrality normalized :',(t@A)/(len(A)-1)) #CD normalized "
   ]
  },
  {
   "cell_type": "code",
   "execution_count": 14,
   "id": "4a75a77e",
   "metadata": {
    "scrolled": true
   },
   "outputs": [
    {
     "data": {
      "text/plain": [
       "{'A': 0.42857142857142855,\n",
       " 'B': 0.42857142857142855,\n",
       " 'C': 0.14285714285714285,\n",
       " 'D': 0.14285714285714285,\n",
       " 'E': 0.2857142857142857,\n",
       " 'F': 0.14285714285714285,\n",
       " 'G': 0.2857142857142857,\n",
       " 'H': 0.14285714285714285}"
      ]
     },
     "execution_count": 14,
     "metadata": {},
     "output_type": "execute_result"
    }
   ],
   "source": [
    "nx.degree_centrality(J)"
   ]
  },
  {
   "cell_type": "raw",
   "id": "6b8be14a",
   "metadata": {},
   "source": [
    "Hence, our own python works as well as the built-in function "
   ]
  },
  {
   "cell_type": "markdown",
   "id": "02b88076",
   "metadata": {},
   "source": [
    "### b) Closeness centrality "
   ]
  },
  {
   "cell_type": "markdown",
   "id": "63e5e776",
   "metadata": {},
   "source": [
    "#### Personal code"
   ]
  },
  {
   "cell_type": "code",
   "execution_count": 15,
   "id": "202a882b",
   "metadata": {
    "scrolled": true
   },
   "outputs": [],
   "source": [
    "D = list(nx.all_pairs_shortest_path_length(J))"
   ]
  },
  {
   "cell_type": "code",
   "execution_count": 16,
   "id": "79d9cea0",
   "metadata": {},
   "outputs": [],
   "source": [
    "def CC(Graph,node):\n",
    "    D = list(nx.all_pairs_shortest_path_length(J))\n",
    "    d = {'A':1, 'B':2, 'C':3, 'D':4, 'E':5, 'F':6, 'G':7, 'H':8}\n",
    "    j = d[node]\n",
    "    lst = [D[j][1][node] for j in range(len(J.nodes()))]\n",
    "    return (len(J.nodes()) - 1) / sum(lst)"
   ]
  },
  {
   "cell_type": "code",
   "execution_count": 17,
   "id": "c79f6265",
   "metadata": {},
   "outputs": [
    {
     "data": {
      "text/plain": [
       "(0.5384615384615384, 0.6363636363636364)"
      ]
     },
     "execution_count": 17,
     "metadata": {},
     "output_type": "execute_result"
    }
   ],
   "source": [
    "CC(J,'A'), CC(J,'B')"
   ]
  },
  {
   "cell_type": "markdown",
   "id": "8e10ffa2",
   "metadata": {},
   "source": [
    "#### Built-in function"
   ]
  },
  {
   "cell_type": "code",
   "execution_count": 18,
   "id": "b6ed046c",
   "metadata": {},
   "outputs": [
    {
     "data": {
      "text/plain": [
       "{'A': 0.5384615384615384,\n",
       " 'B': 0.6363636363636364,\n",
       " 'C': 0.3684210526315789,\n",
       " 'D': 0.3684210526315789,\n",
       " 'E': 0.4666666666666667,\n",
       " 'F': 0.3333333333333333,\n",
       " 'G': 0.4666666666666667,\n",
       " 'H': 0.3333333333333333}"
      ]
     },
     "execution_count": 18,
     "metadata": {},
     "output_type": "execute_result"
    }
   ],
   "source": [
    "nx.closeness_centrality(J)"
   ]
  },
  {
   "cell_type": "raw",
   "id": "d1f3d590",
   "metadata": {},
   "source": [
    "Hence, our own python works as well as the built-in function "
   ]
  },
  {
   "cell_type": "markdown",
   "id": "7caf23f5",
   "metadata": {},
   "source": [
    "### c) Eigenvector centrality "
   ]
  },
  {
   "cell_type": "markdown",
   "id": "460fc918",
   "metadata": {},
   "source": [
    "### Personal code "
   ]
  },
  {
   "cell_type": "code",
   "execution_count": 19,
   "id": "cd626540",
   "metadata": {},
   "outputs": [],
   "source": [
    "from numpy.linalg import linalg as la\n",
    "\n",
    "def EV(n):\n",
    "    nodes=list(J.nodes)\n",
    "    eig_vec=la.eig(A)[1]\n",
    "    eig_vec_centrality=np.absolute(eig_vec[:,0])\n",
    "    return eig_vec_centrality[nodes.index(n)]"
   ]
  },
  {
   "cell_type": "code",
   "execution_count": 20,
   "id": "d798a471",
   "metadata": {},
   "outputs": [
    {
     "data": {
      "text/plain": [
       "(matrix([[0.5]]), matrix([[0.57453835]]))"
      ]
     },
     "execution_count": 20,
     "metadata": {},
     "output_type": "execute_result"
    }
   ],
   "source": [
    "EV(\"A\"), EV(\"B\") "
   ]
  },
  {
   "cell_type": "markdown",
   "id": "de02fe1f",
   "metadata": {},
   "source": [
    "#### Built-in function"
   ]
  },
  {
   "cell_type": "code",
   "execution_count": 21,
   "id": "96e463dc",
   "metadata": {},
   "outputs": [
    {
     "data": {
      "text/plain": [
       "{'A': 0.49999622394725,\n",
       " 'B': 0.5745395873613748,\n",
       " 'C': 0.23797857616309853,\n",
       " 'D': 0.23797857616309853,\n",
       " 'E': 0.3535560606456024,\n",
       " 'F': 0.1682805055991448,\n",
       " 'G': 0.3535560606456024,\n",
       " 'H': 0.1682805055991448}"
      ]
     },
     "execution_count": 21,
     "metadata": {},
     "output_type": "execute_result"
    }
   ],
   "source": [
    "nx.eigenvector_centrality(J)"
   ]
  },
  {
   "cell_type": "raw",
   "id": "43c27a8f",
   "metadata": {},
   "source": [
    "Hence, our code works as well as a built-in function"
   ]
  },
  {
   "cell_type": "markdown",
   "id": "4504933d",
   "metadata": {},
   "source": [
    "### d) Betweenness centrality "
   ]
  },
  {
   "cell_type": "markdown",
   "id": "d7c5a016",
   "metadata": {},
   "source": [
    "#### Personal code"
   ]
  },
  {
   "cell_type": "code",
   "execution_count": 22,
   "id": "351818ce",
   "metadata": {},
   "outputs": [],
   "source": [
    "def BC(n):\n",
    "    Count=0\n",
    "    nodes=list(J.nodes)\n",
    "    nodes.remove(n)\n",
    "    for j in range(len(nodes)-1):\n",
    "        for k in range(j+1,len(nodes)):\n",
    "                if (j!=k):\n",
    "                    path=[p for p in nx.all_shortest_paths(J,source=nodes[j],target=nodes[k])]\n",
    "                    for p in path:\n",
    "                        if n in p:\n",
    "                            Count+=1\n",
    "                    bc=Count/len(path)\n",
    "    bcc=2*bc/((len(nodes))*(len(nodes)-1))\n",
    "    return(bcc)"
   ]
  },
  {
   "cell_type": "code",
   "execution_count": 23,
   "id": "7fc7785a",
   "metadata": {},
   "outputs": [
    {
     "data": {
      "text/plain": [
       "(0.5238095238095238, 0.7619047619047619)"
      ]
     },
     "execution_count": 23,
     "metadata": {},
     "output_type": "execute_result"
    }
   ],
   "source": [
    "BC(\"A\"), BC(\"B\")"
   ]
  },
  {
   "cell_type": "markdown",
   "id": "0d823386",
   "metadata": {},
   "source": [
    "#### Built-in function"
   ]
  },
  {
   "cell_type": "code",
   "execution_count": 24,
   "id": "f27a1d43",
   "metadata": {
    "scrolled": true
   },
   "outputs": [
    {
     "data": {
      "text/plain": [
       "{'A': 0.5238095238095237,\n",
       " 'B': 0.7619047619047619,\n",
       " 'C': 0.0,\n",
       " 'D': 0.0,\n",
       " 'E': 0.2857142857142857,\n",
       " 'F': 0.0,\n",
       " 'G': 0.2857142857142857,\n",
       " 'H': 0.0}"
      ]
     },
     "execution_count": 24,
     "metadata": {},
     "output_type": "execute_result"
    }
   ],
   "source": [
    "nx.betweenness_centrality(J)"
   ]
  },
  {
   "cell_type": "raw",
   "id": "85f4b6d5",
   "metadata": {},
   "source": [
    "Hence, our code works as well as a built-in function"
   ]
  },
  {
   "cell_type": "markdown",
   "id": "3ac98a90",
   "metadata": {},
   "source": [
    "## QUESTION 3"
   ]
  },
  {
   "cell_type": "markdown",
   "id": "bcd54fd3",
   "metadata": {},
   "source": [
    "### a) Karate club graph"
   ]
  },
  {
   "cell_type": "code",
   "execution_count": 25,
   "id": "5d2a0cb5",
   "metadata": {},
   "outputs": [
    {
     "data": {
      "image/png": "[encoded data removed]",
      "text/plain": [
       "<Figure size 432x288 with 1 Axes>"
      ]
     },
     "metadata": {},
     "output_type": "display_data"
    }
   ],
   "source": [
    "K = nx.karate_club_graph()\n",
    "nx.draw_circular(K, with_labels=True, edge_color = 'y', node_size = 500)"
   ]
  },
  {
   "cell_type": "raw",
   "id": "60f8da18",
   "metadata": {},
   "source": [
    "In this view of graph, we realize that there are some nodes (people) who has higher degree, which means more contact with others (0-3, 31-33). Let us view their degrees to confim our comment. "
   ]
  },
  {
   "cell_type": "code",
   "execution_count": 40,
   "id": "8c5455aa",
   "metadata": {},
   "outputs": [
    {
     "data": {
      "text/plain": [
       "DegreeView({0: 16, 1: 9, 2: 10, 3: 6, 4: 3, 5: 4, 6: 4, 7: 4, 8: 5, 9: 2, 10: 3, 11: 1, 12: 2, 13: 5, 14: 2, 15: 2, 16: 2, 17: 2, 18: 2, 19: 3, 20: 2, 21: 2, 22: 2, 23: 5, 24: 3, 25: 3, 26: 2, 27: 4, 28: 3, 29: 4, 30: 4, 31: 6, 32: 12, 33: 17})"
      ]
     },
     "execution_count": 40,
     "metadata": {},
     "output_type": "execute_result"
    }
   ],
   "source": [
    "#Degrees of nodes \n",
    "d = nx.degree(K)\n",
    "d"
   ]
  },
  {
   "cell_type": "code",
   "execution_count": 39,
   "id": "b074b40c",
   "metadata": {},
   "outputs": [
    {
     "data": {
      "text/plain": [
       "(NodeView((0, 1, 2, 3, 4, 5, 6, 7, 8, 9, 10, 11, 12, 13, 14, 15, 16, 17, 18, 19, 20, 21, 22, 23, 24, 25, 26, 27, 28, 29, 30, 31, 32, 33)),\n",
       " EdgeView([(0, 1), (0, 2), (0, 3), (0, 4), (0, 5), (0, 6), (0, 7), (0, 8), (0, 10), (0, 11), (0, 12), (0, 13), (0, 17), (0, 19), (0, 21), (0, 31), (1, 2), (1, 3), (1, 7), (1, 13), (1, 17), (1, 19), (1, 21), (1, 30), (2, 3), (2, 7), (2, 8), (2, 9), (2, 13), (2, 27), (2, 28), (2, 32), (3, 7), (3, 12), (3, 13), (4, 6), (4, 10), (5, 6), (5, 10), (5, 16), (6, 16), (8, 30), (8, 32), (8, 33), (9, 33), (13, 33), (14, 32), (14, 33), (15, 32), (15, 33), (18, 32), (18, 33), (19, 33), (20, 32), (20, 33), (22, 32), (22, 33), (23, 25), (23, 27), (23, 29), (23, 32), (23, 33), (24, 25), (24, 27), (24, 31), (25, 31), (26, 29), (26, 33), (27, 33), (28, 31), (28, 33), (29, 32), (29, 33), (30, 32), (30, 33), (31, 32), (31, 33), (32, 33)]))"
      ]
     },
     "execution_count": 39,
     "metadata": {},
     "output_type": "execute_result"
    }
   ],
   "source": [
    "K.nodes(), K.edges() #Number of nodes and number of edges"
   ]
  },
  {
   "cell_type": "code",
   "execution_count": 28,
   "id": "ee4028f4",
   "metadata": {},
   "outputs": [
    {
     "data": {
      "text/plain": [
       "(5, 3)"
      ]
     },
     "execution_count": 28,
     "metadata": {},
     "output_type": "execute_result"
    }
   ],
   "source": [
    "#Diameter and Radius\n",
    "nx.diameter(K), nx.radius(K)"
   ]
  },
  {
   "cell_type": "raw",
   "id": "1ff0433c",
   "metadata": {},
   "source": [
    "This network respect the phenomen of small world of Watts-Strogatz. The higher distance between each pair of node is less than or equal to 6. Here, our distance is indeed 5.   "
   ]
  },
  {
   "cell_type": "code",
   "execution_count": 29,
   "id": "ce1a4dfa",
   "metadata": {
    "scrolled": true
   },
   "outputs": [
    {
     "data": {
      "image/png": "[encoded data removed]",
      "text/plain": [
       "<Figure size 432x288 with 1 Axes>"
      ]
     },
     "metadata": {
      "needs_background": "light"
     },
     "output_type": "display_data"
    }
   ],
   "source": [
    "#Degree distribution\n",
    "degrees = [K.degree(n) for n in K.nodes()]\n",
    "plt.hist(degrees)\n",
    "plt.show()"
   ]
  },
  {
   "cell_type": "markdown",
   "id": "3d4681aa",
   "metadata": {},
   "source": [
    "### b) Density of the Karate club graph K "
   ]
  },
  {
   "cell_type": "markdown",
   "id": "d38e8dfa",
   "metadata": {},
   "source": [
    "#### Personal code\n"
   ]
  },
  {
   "cell_type": "markdown",
   "id": "f71ceff9",
   "metadata": {},
   "source": [
    "$Density(K) = \\dfrac{L_{K}}{L_{max}}$"
   ]
  },
  {
   "cell_type": "code",
   "execution_count": 30,
   "id": "815edbd9",
   "metadata": {},
   "outputs": [
    {
     "data": {
      "text/plain": [
       "0.13903743315508021"
      ]
     },
     "execution_count": 30,
     "metadata": {},
     "output_type": "execute_result"
    }
   ],
   "source": [
    "Lmax = (K.number_of_nodes()*(K.number_of_nodes() - 1)) / 2\n",
    "density = K.number_of_edges() / Lmax\n",
    "density "
   ]
  },
  {
   "cell_type": "markdown",
   "id": "63c7c1dc",
   "metadata": {},
   "source": [
    "#### Built-in function"
   ]
  },
  {
   "cell_type": "code",
   "execution_count": 31,
   "id": "812d368b",
   "metadata": {},
   "outputs": [
    {
     "data": {
      "text/plain": [
       "0.13903743315508021"
      ]
     },
     "execution_count": 31,
     "metadata": {},
     "output_type": "execute_result"
    }
   ],
   "source": [
    "nx.density(K)"
   ]
  },
  {
   "cell_type": "raw",
   "id": "a44a7459",
   "metadata": {},
   "source": [
    "Our code works as well as the built-in function"
   ]
  },
  {
   "cell_type": "raw",
   "id": "81554480",
   "metadata": {},
   "source": [
    "This network is sparse, because the real number of relationships is far less than the maximum number of relationships. "
   ]
  },
  {
   "cell_type": "markdown",
   "id": "9c50ca27",
   "metadata": {},
   "source": [
    "### c) Plots of Centralities vs nodes"
   ]
  },
  {
   "cell_type": "code",
   "execution_count": 34,
   "id": "e02f419b",
   "metadata": {},
   "outputs": [],
   "source": [
    "dc = nx.degree_centrality(K)\n",
    "cc = nx.closeness_centrality(K)\n",
    "bc = nx.betweenness_centrality(K)\n",
    "ec = nx.eigenvector_centrality(K)\n",
    "sc = nx.subgraph_centrality(K)"
   ]
  },
  {
   "cell_type": "code",
   "execution_count": 38,
   "id": "e873bfbc",
   "metadata": {},
   "outputs": [
    {
     "data": {
      "text/plain": [
       "[<matplotlib.lines.Line2D at 0x24d2c157d30>]"
      ]
     },
     "execution_count": 38,
     "metadata": {},
     "output_type": "execute_result"
    },
    {
     "data": {
      "image/png": "[encoded data removed]",
      "text/plain": [
       "<Figure size 1008x576 with 5 Axes>"
      ]
     },
     "metadata": {
      "needs_background": "light"
     },
     "output_type": "display_data"
    }
   ],
   "source": [
    "fig = plt.figure(figsize = (14,8))\n",
    "plt.subplot(2,3,1)\n",
    "plt.plot(list(K.nodes), (dict(dc)).values()) #1. Node vs Degree centrality\n",
    "plt.subplot(2,3,2)\n",
    "plt.plot(list(K.nodes), (dict(cc)).values()) #2. Node vs Closeness centrality \n",
    "plt.subplot(2,3,3)\n",
    "plt.plot(list(K.nodes), (dict(bc)).values()) #3. Node vs Betweenness centrality\n",
    "plt.subplot(2,3,4)\n",
    "plt.plot(list(K.nodes), (dict(ec)).values()) #4. Node vs Eigenvector centrality\n",
    "plt.subplot(2,3,5)\n",
    "plt.plot(list(K.nodes), (dict(sc)).values()) #5. Node vs Subgraph centrality"
   ]
  },
  {
   "cell_type": "raw",
   "id": "dbb4331a",
   "metadata": {},
   "source": [
    "we observe that there are some people who are very important in the network because of their relationships avec others (centralities), as specified in question 3 a). Those people are represented here by node 0 - 5 and 31 - 33.    "
   ]
  },
  {
   "cell_type": "markdown",
   "id": "6b598646",
   "metadata": {},
   "source": [
    "### d) Average clustering coefficient"
   ]
  },
  {
   "cell_type": "markdown",
   "id": "bcd33593",
   "metadata": {},
   "source": [
    "#### Personal code"
   ]
  },
  {
   "cell_type": "code",
   "execution_count": 256,
   "id": "8e2c6cca",
   "metadata": {},
   "outputs": [
    {
     "data": {
      "text/plain": [
       "0.5706384782076823"
      ]
     },
     "execution_count": 256,
     "metadata": {},
     "output_type": "execute_result"
    }
   ],
   "source": [
    "LLL=[]\n",
    "for i in range(K.number_of_nodes()) :\n",
    "        num = 2 * nx.triangles(K,i)\n",
    "        den = K.degree(i) * (K.degree(i) - 1)\n",
    "        if den == 0 :\n",
    "            continue\n",
    "        Ci = num/den\n",
    "        LLL.append(Ci)\n",
    "sum(LLL)/K.number_of_nodes()"
   ]
  },
  {
   "cell_type": "markdown",
   "id": "bf0648fa",
   "metadata": {},
   "source": [
    "#### Built-in function"
   ]
  },
  {
   "cell_type": "code",
   "execution_count": 257,
   "id": "bc517b18",
   "metadata": {},
   "outputs": [
    {
     "data": {
      "text/plain": [
       "0.5706384782076823"
      ]
     },
     "execution_count": 257,
     "metadata": {},
     "output_type": "execute_result"
    }
   ],
   "source": [
    "nx.average_clustering(K)"
   ]
  },
  {
   "cell_type": "raw",
   "id": "c4474e08",
   "metadata": {},
   "source": [
    "Hence, our code works as well as the built-in function"
   ]
  },
  {
   "cell_type": "raw",
   "id": "8a3da5d9",
   "metadata": {},
   "source": [
    "Interpretation: In the Karate club, we have on average 57% of triangles found. The average probability that two friends have a friend in common. "
   ]
  },
  {
   "cell_type": "markdown",
   "id": "7db3d774",
   "metadata": {},
   "source": [
    "### f) Average shortest path length "
   ]
  },
  {
   "cell_type": "code",
   "execution_count": 261,
   "id": "b204a4b4",
   "metadata": {},
   "outputs": [
    {
     "data": {
      "text/plain": [
       "2.408199643493761"
      ]
     },
     "execution_count": 261,
     "metadata": {},
     "output_type": "execute_result"
    }
   ],
   "source": [
    "nx.average_shortest_path_length(K)"
   ]
  },
  {
   "cell_type": "raw",
   "id": "bc49c37a",
   "metadata": {},
   "source": [
    "In quantity means that, between each pair of people the distance is 2.4 on average. There is a strong communicability in this network. "
   ]
  },
  {
   "cell_type": "markdown",
   "id": "4fa82d36",
   "metadata": {},
   "source": [
    "### g) Scatter plot Ci vs ki"
   ]
  },
  {
   "cell_type": "code",
   "execution_count": 294,
   "id": "1a5fe27b",
   "metadata": {},
   "outputs": [
    {
     "data": {
      "text/plain": [
       "<matplotlib.collections.PathCollection at 0x252bc849640>"
      ]
     },
     "execution_count": 294,
     "metadata": {},
     "output_type": "execute_result"
    },
    {
     "data": {
      "image/png": "[encoded data removed]",
      "text/plain": [
       "<Figure size 432x288 with 1 Axes>"
      ]
     },
     "metadata": {
      "needs_background": "light"
     },
     "output_type": "display_data"
    }
   ],
   "source": [
    "plt.scatter(dict(d).values(), dict(nx.clustering(K)).values())"
   ]
  },
  {
   "cell_type": "raw",
   "id": "c615f74c",
   "metadata": {},
   "source": [
    "In this scatter plot, we observe that the points are not correlated (no trend in the data). This is logical because the number of relationships between a person and his relatives is not a function of the relationships between these relatives. The more people a person is related to, the less people are related to each other. "
   ]
  },
  {
   "cell_type": "code",
   "execution_count": null,
   "id": "8f9b7027",
   "metadata": {},
   "outputs": [],
   "source": []
  }
 ],
 "metadata": {
  "kernelspec": {
   "display_name": "Python 3",
   "language": "python",
   "name": "python3"
  },
  "language_info": {
   "codemirror_mode": {
    "name": "ipython",
    "version": 3
   },
   "file_extension": ".py",
   "mimetype": "text/x-python",
   "name": "python",
   "nbconvert_exporter": "python",
   "pygments_lexer": "ipython3",
   "version": "3.8.8"
  }
 },
 "nbformat": 4,
 "nbformat_minor": 5
}
